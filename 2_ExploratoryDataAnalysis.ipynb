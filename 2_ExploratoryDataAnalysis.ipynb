{
  "nbformat": 4,
  "nbformat_minor": 0,
  "metadata": {
    "colab": {
      "name": "2_ExploratoryDataAnalysis.ipynb",
      "provenance": []
    },
    "kernelspec": {
      "name": "python3",
      "display_name": "Python 3"
    },
    "language_info": {
      "name": "python"
    }
  },
  "cells": [
    {
      "cell_type": "code",
      "execution_count": 3,
      "metadata": {
        "id": "X7iAD0j90fSE"
      },
      "outputs": [],
      "source": [
        "import pandas as pd\n",
        "import matplotlib\n",
        "import matplotlib.pyplot as plt\n",
        "import numpy as np\n",
        "from sklearn.preprocessing import MinMaxScaler, OneHotEncoder\n",
        "import seaborn as sns\n",
        "from sklearn.experimental import enable_iterative_imputer\n",
        "from sklearn.impute import IterativeImputer\n",
        "from sklearn import linear_model\n",
        "from sklearn.impute import SimpleImputer\n",
        "\n",
        "# Set this flag to False when you run your code.  The ProfileReport() call takes \n",
        "# up a lot of time and you'll want to skip over it.\n",
        "z_profilereport = True\n",
        "\n",
        "\n",
        "df = pd.read_csv('https://raw.githubusercontent.com/USD-502-FinalProject/502-Summer2022-FinalProject/main/telecom_customer_churn.csv', sep=',', na_values='?')\n",
        "df_zip = pd.read_csv('https://raw.githubusercontent.com/USD-502-FinalProject/502-Summer2022-FinalProject/main/telecom_zipcode_population.csv', sep=',')\n"
      ]
    },
    {
      "cell_type": "markdown",
      "source": [
        "# Univariate Analysis\n",
        "\n",
        "## We make use of the pandas-profiling package from pypi. This function call generates a general statistics report on each column."
      ],
      "metadata": {
        "id": "syd4n_SU0j31"
      }
    },
    {
      "cell_type": "code",
      "source": [
        "# Coding in progress for this part..."
      ],
      "metadata": {
        "id": "dea8vpkR6CWM"
      },
      "execution_count": null,
      "outputs": []
    },
    {
      "cell_type": "markdown",
      "source": [
        "# Multivariate Analysis\n"
      ],
      "metadata": {
        "id": "_SxtFZDb02fe"
      }
    }
  ]
}