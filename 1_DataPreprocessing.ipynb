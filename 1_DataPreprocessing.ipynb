{
  "nbformat": 4,
  "nbformat_minor": 0,
  "metadata": {
    "colab": {
      "name": "1-DataPreprocessing.ipynb",
      "provenance": []
    },
    "kernelspec": {
      "name": "python3",
      "display_name": "Python 3"
    },
    "language_info": {
      "name": "python"
    }
  },
  "cells": [
    {
      "cell_type": "code",
      "execution_count": 1,
      "metadata": {
        "colab": {
          "base_uri": "https://localhost:8080/"
        },
        "id": "D8y109fOJb_X",
        "outputId": "5542a51b-8158-40c6-87e2-bb2353e3c81f"
      },
      "outputs": [
        {
          "output_type": "stream",
          "name": "stdout",
          "text": [
            "  Customer ID  Gender  Age Married  Number of Dependents          City  \\\n",
            "0  0002-ORFBO  Female   37     Yes                     0  Frazier Park   \n",
            "1  0003-MKNFE    Male   46      No                     0      Glendale   \n",
            "2  0004-TLHLJ    Male   50      No                     0    Costa Mesa   \n",
            "3  0011-IGKFF    Male   78     Yes                     0      Martinez   \n",
            "4  0013-EXCHZ  Female   75     Yes                     0     Camarillo   \n",
            "\n",
            "   Zip Code   Latitude   Longitude  Number of Referrals  ...   Payment Method  \\\n",
            "0     93225  34.827662 -118.999073                    2  ...      Credit Card   \n",
            "1     91206  34.162515 -118.203869                    0  ...      Credit Card   \n",
            "2     92627  33.645672 -117.922613                    0  ...  Bank Withdrawal   \n",
            "3     94553  38.014457 -122.115432                    1  ...  Bank Withdrawal   \n",
            "4     93010  34.227846 -119.079903                    3  ...      Credit Card   \n",
            "\n",
            "  Monthly Charge Total Charges  Total Refunds Total Extra Data Charges  \\\n",
            "0           65.6        593.30           0.00                        0   \n",
            "1           -4.0        542.40          38.33                       10   \n",
            "2           73.9        280.85           0.00                        0   \n",
            "3           98.0       1237.85           0.00                        0   \n",
            "4           83.9        267.40           0.00                        0   \n",
            "\n",
            "  Total Long Distance Charges Total Revenue  Customer Status   Churn Category  \\\n",
            "0                      381.51        974.81           Stayed              NaN   \n",
            "1                       96.21        610.28           Stayed              NaN   \n",
            "2                      134.60        415.45          Churned       Competitor   \n",
            "3                      361.66       1599.51          Churned  Dissatisfaction   \n",
            "4                       22.14        289.54          Churned  Dissatisfaction   \n",
            "\n",
            "                    Churn Reason  \n",
            "0                            NaN  \n",
            "1                            NaN  \n",
            "2  Competitor had better devices  \n",
            "3        Product dissatisfaction  \n",
            "4            Network reliability  \n",
            "\n",
            "[5 rows x 38 columns]\n",
            "Index(['Customer ID', 'Gender', 'Age', 'Married', 'Number of Dependents',\n",
            "       'City', 'Zip Code', 'Latitude', 'Longitude', 'Number of Referrals',\n",
            "       'Tenure in Months', 'Offer', 'Phone Service',\n",
            "       'Avg Monthly Long Distance Charges', 'Multiple Lines',\n",
            "       'Internet Service', 'Internet Type', 'Avg Monthly GB Download',\n",
            "       'Online Security', 'Online Backup', 'Device Protection Plan',\n",
            "       'Premium Tech Support', 'Streaming TV', 'Streaming Movies',\n",
            "       'Streaming Music', 'Unlimited Data', 'Contract', 'Paperless Billing',\n",
            "       'Payment Method', 'Monthly Charge', 'Total Charges', 'Total Refunds',\n",
            "       'Total Extra Data Charges', 'Total Long Distance Charges',\n",
            "       'Total Revenue', 'Customer Status', 'Churn Category', 'Churn Reason'],\n",
            "      dtype='object')\n"
          ]
        }
      ],
      "source": [
        "import pandas as pd\n",
        "\n",
        "df = pd.read_csv('https://raw.githubusercontent.com/USD-502-FinalProject/502-Summer2022-FinalProject/main/telecom_customer_churn.csv', sep=',')\n",
        "df_zip = pd.read_csv('https://raw.githubusercontent.com/USD-502-FinalProject/502-Summer2022-FinalProject/main/telecom_zipcode_population.csv', sep=',')\n",
        "\n",
        "\n",
        "# DATA QUALITY ##################################################################\n",
        "print(df.head(5))\n",
        "print(df.columns)"
      ]
    }
  ]
}